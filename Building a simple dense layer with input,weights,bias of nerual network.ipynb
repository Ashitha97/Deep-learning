{
 "cells": [
  {
   "cell_type": "code",
   "execution_count": 17,
   "metadata": {},
   "outputs": [],
   "source": [
    "import numpy as np"
   ]
  },
  {
   "cell_type": "code",
   "execution_count": 18,
   "metadata": {},
   "outputs": [],
   "source": [
    "np.random.seed(0)"
   ]
  },
  {
   "cell_type": "code",
   "execution_count": 19,
   "metadata": {},
   "outputs": [],
   "source": [
    "x=[[1,2,3,2.5],\n",
    "  [2.0,5.0,-1.0,2.0],\n",
    "  [-1.5,2.7,3.3,-0.8]]"
   ]
  },
  {
   "cell_type": "code",
   "execution_count": 20,
   "metadata": {},
   "outputs": [
    {
     "name": "stdout",
     "output_type": "stream",
     "text": [
      "[[-0.07349747  0.20606039 -0.09895969]\n",
      " [ 0.00215285  0.09019504 -0.10555064]\n",
      " [ 0.03332613  0.07729937 -0.12740738]]\n"
     ]
    }
   ],
   "source": [
    "class layer_dense:\n",
    "    def __init__(self,n_inputs,n_neurons):\n",
    "        self.weights=0.10*np.random.randn(n_inputs,n_neurons)\n",
    "        self.bias=np.zeros((1,n_neurons))\n",
    "    def forward(self,inputs):\n",
    "        self.output=np.dot(inputs,self.weights)+self.bias\n",
    "\n",
    "layer1=layer_dense(4,5)\n",
    "layer2=layer_dense(5,3)\n",
    "\n",
    "layer1.forward(x)\n",
    "#print(layer1.output)\n",
    "layer2.forward(layer1.output)\n",
    "print(layer2.output)"
   ]
  }
 ],
 "metadata": {
  "kernelspec": {
   "display_name": "Python 3",
   "language": "python",
   "name": "python3"
  },
  "language_info": {
   "codemirror_mode": {
    "name": "ipython",
    "version": 3
   },
   "file_extension": ".py",
   "mimetype": "text/x-python",
   "name": "python",
   "nbconvert_exporter": "python",
   "pygments_lexer": "ipython3",
   "version": "3.7.7"
  }
 },
 "nbformat": 4,
 "nbformat_minor": 4
}
